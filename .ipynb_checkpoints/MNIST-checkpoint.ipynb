{
 "cells": [
  {
   "cell_type": "code",
   "execution_count": null,
   "id": "0c2ae63c-6e56-49bc-92e4-acaa424a9a3f",
   "metadata": {},
   "outputs": [],
   "source": [
    "import tensorflow as tf\n",
    "import torch\n",
    "import torchvision\n",
    "import torchvision.transforms as transforms\n",
    "import matplotlib.pyplot as plt\n",
    "import numpy as np\n",
    "import random\n",
    "from tensorflow import keras\n",
    "from tensorflow.keras import layers\n",
    "from sklearn.utils import class_weight\n",
    "import struct"
   ]
  },
  {
   "cell_type": "code",
   "execution_count": null,
   "id": "cd24e777-ec24-4a30-9452-9b9ff7675acc",
   "metadata": {},
   "outputs": [],
   "source": [
    "file_path = \"Kaggle Dataset/train-images.idx3-ubyte\"\n",
    "def read_idx_images(file_path):\n",
    "    with open(file_path, 'rb') as f:\n",
    "        _, num, rows, cols = struct.unpack('>IIII', f.read(16))\n",
    "        return np.frombuffer(f.read(), dtype=np.uint8).reshape(num, rows, cols)"
   ]
  },
  {
   "cell_type": "code",
   "execution_count": null,
   "id": "441edd68-f3b7-49b8-9c1a-39a41eba6346",
   "metadata": {},
   "outputs": [],
   "source": [
    "file_path = \"Kaggle Dataset/t10k-images.idx3-ubyte\"\n",
    "def read_idx_images(file_path):\n",
    "    with open(file_path, 'rb') as f:\n",
    "        _, num, rows, cols = struct.unpack('>IIII', f.read(16))\n",
    "        return np.frombuffer(f.read(), dtype=np.uint8).reshape(num, rows, cols)"
   ]
  },
  {
   "cell_type": "code",
   "execution_count": null,
   "id": "86ed0cd6-84d3-419a-b38f-fba5f32b8786",
   "metadata": {},
   "outputs": [],
   "source": [
    "file_path = \"Kaggle Dataset/train-labels.idx1-ubyte\"\n",
    "def read_idx_labels(file_path):\n",
    "    with open(file_path, 'rb') as f:\n",
    "        _, num = struct.unpack('>II', f.read(8))\n",
    "        return np.frombuffer(f.read(), dtype=np.uint8)"
   ]
  },
  {
   "cell_type": "code",
   "execution_count": null,
   "id": "1cc5151e-b105-4a9c-a7bc-9156ec564927",
   "metadata": {},
   "outputs": [],
   "source": [
    "file_path = \"Kaggle Dataset/t10k-labels.idx1-ubyte\"\n",
    "def read_idx_labels(file_path):\n",
    "    with open(file_path, 'rb') as f:\n",
    "        _, num = struct.unpack('>II', f.read(8))\n",
    "        return np.frombuffer(f.read(), dtype=np.uint8)"
   ]
  },
  {
   "cell_type": "code",
   "execution_count": null,
   "id": "00fe7791-7220-443e-ac31-8422c98eaea1",
   "metadata": {},
   "outputs": [],
   "source": [
    "# Paths to the MNIST files in Kaggle\n",
    "train_images_path = \"Kaggle Dataset/train-images.idx3-ubyte\"\n",
    "train_labels_path = \"Kaggle Dataset/train-labels.idx1-ubyte\"\n",
    "test_images_path = \"Kaggle Dataset/t10k-images.idx3-ubyte\"\n",
    "test_labels_path = \"Kaggle Dataset/t10k-labels.idx1-ubyte\""
   ]
  },
  {
   "cell_type": "code",
   "execution_count": null,
   "id": "b9f7a1ae-0d8d-40df-a416-44648f2647e9",
   "metadata": {},
   "outputs": [],
   "source": [
    "# Load images and labels\n",
    "train_images = read_idx_images(train_images_path)\n",
    "train_labels = read_idx_labels(train_labels_path)\n",
    "test_images = read_idx_images(test_images_path)\n",
    "test_labels = read_idx_labels(test_labels_path)"
   ]
  },
  {
   "cell_type": "code",
   "execution_count": null,
   "id": "16550de5-8e2b-4aee-8cc1-a69738e6f5fe",
   "metadata": {},
   "outputs": [],
   "source": [
    "print(f\"Train Images Shape: {train_images.shape}\")  \n",
    "print(f\"Train Labels Shape: {train_labels.shape}\")"
   ]
  },
  {
   "cell_type": "code",
   "execution_count": null,
   "id": "680b32d6-e8ad-4de0-9973-e82eccbd417c",
   "metadata": {},
   "outputs": [],
   "source": [
    "# Normalize data\n",
    "train_images, test_images = train_images / 255.0, test_images / 255.0"
   ]
  },
  {
   "cell_type": "code",
   "execution_count": null,
   "id": "65166b10-1b7f-41ee-89ed-79191b8154c8",
   "metadata": {},
   "outputs": [],
   "source": [
    "def create_model():\n",
    "    model = keras.Sequential([\n",
    "        layers.Conv2D(32, (3,3), activation='relu', input_shape=(28,28,1)),\n",
    "        layers.MaxPooling2D((2,2)),\n",
    "        layers.Conv2D(64, (3,3), activation='relu'),\n",
    "        layers.MaxPooling2D((2,2)),\n",
    "        layers.Flatten(),\n",
    "        layers.Dense(128, activation='relu'),\n",
    "        layers.Dense(10, activation='softmax')\n",
    "    ])\n",
    "    model.compile(optimizer='adam', loss='sparse_categorical_crossentropy', metrics=['accuracy'])\n",
    "    return model\n",
    "\n",
    "model = create_model()"
   ]
  },
  {
   "cell_type": "code",
   "execution_count": null,
   "id": "ea3afc74-8a15-4821-bdde-a341ce2bf615",
   "metadata": {},
   "outputs": [],
   "source": [
    "history = model.fit(train_images[..., np.newaxis], train_labels, epochs=5, validation_data=(test_images[..., np.newaxis], test_labels))"
   ]
  },
  {
   "cell_type": "code",
   "execution_count": null,
   "id": "b7ac7b91-cd2b-4126-bbdf-d0c0adbe95f7",
   "metadata": {},
   "outputs": [],
   "source": [
    "plt.plot(np.array(history.history['accuracy']) * 100, label='Training Accuracy (%)')\n",
    "plt.plot(np.array(history.history['val_accuracy']) * 100, label='Validation Accuracy (%)')\n",
    "plt.ylabel('Accuracy (%)')  \n",
    "plt.xlabel('Epochs') \n",
    "plt.legend()\n",
    "plt.show()\n"
   ]
  },
  {
   "cell_type": "code",
   "execution_count": null,
   "id": "98d8af86-6af2-4885-9868-3ba6ad6c0fb0",
   "metadata": {},
   "outputs": [],
   "source": [
    "def create_biased_dataset(train_images, train_labels):\n",
    "    mask = np.isin(train_labels, [0,1,2,3,4,5,6])  # Keep only these classes\n",
    "    x_train_biased = train_images[mask]\n",
    "    y_train_biased = train_labels[mask]\n",
    "    return x_train_biased, y_train_biased              #removes 7, 8, 9 numbers from the dataset"
   ]
  },
  {
   "cell_type": "code",
   "execution_count": null,
   "id": "e9b8c099-30f2-40f3-bf7f-7177caf97326",
   "metadata": {},
   "outputs": [],
   "source": [
    "x_train_biased, y_train_biased = create_biased_dataset(train_images, train_labels)"
   ]
  },
  {
   "cell_type": "code",
   "execution_count": null,
   "id": "9558c567-8a7f-401e-9705-935ffb951d64",
   "metadata": {},
   "outputs": [],
   "source": [
    "biased_model = create_model()\n",
    "biased_history = biased_model.fit(\n",
    "    x_train_biased[..., np.newaxis], y_train_biased,\n",
    "    epochs=5, validation_data=(test_images[..., np.newaxis], test_labels)\n",
    ")"
   ]
  },
  {
   "cell_type": "code",
   "execution_count": null,
   "id": "fd8b4d6a-6260-4598-9295-cf9e4dc80dd7",
   "metadata": {},
   "outputs": [],
   "source": [
    "plt.plot(np.array(biased_history.history['accuracy']) * 100, label='Training Accuracy (%)')\n",
    "plt.plot(np.array(biased_history.history['val_accuracy']) * 100, label='Validation Accuracy (%)')\n",
    "plt.ylabel('Accuracy (%)')  \n",
    "plt.xlabel('Epochs') \n",
    "plt.legend()\n",
    "plt.show()"
   ]
  },
  {
   "cell_type": "markdown",
   "id": "c580be3b-6b36-4d4e-a89f-9abebcc155ab",
   "metadata": {},
   "source": [
    "# Strategies to Handle Imbalance\n",
    " - Use class weighting"
   ]
  },
  {
   "cell_type": "code",
   "execution_count": null,
   "id": "88499e9a-07f5-44a0-8ef1-4150b25888bd",
   "metadata": {},
   "outputs": [],
   "source": [
    "biased_weights = class_weight.compute_class_weight('balanced', classes=np.unique(y_train_biased), y=y_train_biased)\n",
    "biased_class_weights_dict = {i: biased_weights[i] for i in np.unique(y_train_biased)}"
   ]
  },
  {
   "cell_type": "code",
   "execution_count": null,
   "id": "72ae164c-6afc-42e4-bbb3-07f936f77575",
   "metadata": {},
   "outputs": [],
   "source": [
    "balanced_biased_model = create_model()\n",
    "balanced_biased_history = balanced_biased_model.fit(\n",
    "    x_train_biased[..., np.newaxis], y_train_biased,\n",
    "    epochs=5,\n",
    "    validation_data=(test_images[..., np.newaxis], test_labels),\n",
    "    class_weight=biased_class_weights_dict  # Apply class weights for balancing\n",
    ")"
   ]
  },
  {
   "cell_type": "code",
   "execution_count": null,
   "id": "2199124f-8ab5-44fe-915c-607c1b08b312",
   "metadata": {},
   "outputs": [],
   "source": [
    "plt.plot(balanced_biased_history.history['accuracy'], label='Balanced Biased Accuracy')\n",
    "plt.plot(balanced_biased_history.history['val_accuracy'], label='Balanced Biased Val Accuracy')\n",
    "plt.legend()\n",
    "plt.show()"
   ]
  },
  {
   "cell_type": "code",
   "execution_count": null,
   "id": "642aa613-6b55-4d4a-bd94-5948b16ba8a1",
   "metadata": {},
   "outputs": [],
   "source": []
  }
 ],
 "metadata": {
  "kernelspec": {
   "display_name": "Python 3 (ipykernel)",
   "language": "python",
   "name": "python3"
  },
  "language_info": {
   "codemirror_mode": {
    "name": "ipython",
    "version": 3
   },
   "file_extension": ".py",
   "mimetype": "text/x-python",
   "name": "python",
   "nbconvert_exporter": "python",
   "pygments_lexer": "ipython3",
   "version": "3.10.3"
  }
 },
 "nbformat": 4,
 "nbformat_minor": 5
}
